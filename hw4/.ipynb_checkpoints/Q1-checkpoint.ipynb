{
 "cells": [
  {
   "cell_type": "markdown",
   "id": "985a15f4",
   "metadata": {},
   "source": [
    "# ECE381V HW4- Mingyo Seo (EID: ms84662)"
   ]
  },
  {
   "cell_type": "markdown",
   "id": "01c2edeb",
   "metadata": {},
   "source": [
    "We consider the descrete dynamic model with the time step $\\Delta t = 0.05$. All the parameters used in the simulation are given as the problem."
   ]
  },
  {
   "cell_type": "code",
   "execution_count": 1,
   "id": "a0a4e88b",
   "metadata": {},
   "outputs": [],
   "source": [
    "import os\n",
    "import numpy as np\n",
    "import cvxpy as cp\n",
    "import matplotlib.pyplot as plt\n",
    "import matplotlib.ticker as ticker\n",
    "import matplotlib.patches as patches\n",
    "import seaborn as sns\n",
    "\n",
    "np.set_printoptions(precision=2)\n",
    "\n",
    "CONTOL_MIN = -0.3\n",
    "CONTOL_MAX = 0.3\n",
    "\n",
    "STEP_MAX = 400\n",
    "\n",
    "GRAVITY = 9.8\n",
    "INERTIA = 0.0475\n",
    "RADIUS = 0.25\n",
    "MASS = 4.0\n",
    "AERODYNAMIC_COEFF = 0.05\n",
    "\n",
    "TIME_STEP = 0.05\n",
    "\n",
    "INIT_STATE = np.zeros(6)\n",
    "REF_STATE = np.array([1, 1, 0, 0, 0, 0])"
   ]
  },
  {
   "cell_type": "code",
   "execution_count": 3,
   "id": "84eab44a",
   "metadata": {},
   "outputs": [],
   "source": [
    "def plot_results(results):\n",
    "    fig, axs = plt.subplots(5)\n",
    "\n",
    "    for key in [20, 150]:\n",
    "        axs[0].plot(results[key]['time'], results[key]['state'][:,0], label=\"{} steps\".format(key))\n",
    "        axs[1].plot(results[key]['time'], results[key]['state'][:,1], label=\"{} steps\".format(key))\n",
    "        axs[2].plot(results[key]['time'], results[key]['state'][:,2], label=\"{} steps\".format(key))\n",
    "        axs[3].plot(results[key]['time'], results[key]['control'][:,3], label=\"{} steps\".format(key))\n",
    "        axs[4].plot(results[key]['time'], results[key]['control'][:,0], label=\"{} steps\".format(key))\n",
    "\n",
    "    axs[0].set_ylabel(\"X-Position [m]\")\n",
    "    axs[1].set_ylabel(\"Y-Position [m]\")\n",
    "    axs[2].set_ylabel(\"Roll [rad]\")\n",
    "    axs[3].set_ylabel(\"F_x [N]\")\n",
    "    axs[4].set_ylabel(\"F_y [N]\")\n",
    "    axs[4].set_xlabel(\"Time [sec]\")\n",
    "\n",
    "    axs[0].set_ylim(-5, 5)\n",
    "    axs[1].set_ylim(-1, 1)\n",
    "    axs[2].set_ylim(-5, 5)\n",
    "    axs[3].set_ylim(-1, 1)\n",
    "    axs[4].set_ylim(-100, 100)\n",
    "\n",
    "    axs[4].legend(loc=\"lower right\")\n",
    "\n",
    "    fig.set_figwidth(8)\n",
    "    fig.set_figheight(8)\n",
    "\n",
    "    plt.show()"
   ]
  },
  {
   "cell_type": "markdown",
   "id": "d5207806",
   "metadata": {},
   "source": [
    "The dynamics of the vectored thrust aircraft can be formulated as below,\n",
    "<br>\n",
    "$\n",
    "\\dot{\\xi} = A \\xi + B u\n",
    "$,\n",
    "<br>\n",
    "where \n",
    "$A(\\xi) = \n",
    "\\begin{bmatrix}\n",
    "0 & 0 & 0 & 1 & 0 & 0\\\\\n",
    "0 & 0 & 0 & 0 & 1 & 0\\\\\n",
    "0 & 0 & 0 & 0 & 0 & 1\\\\\n",
    "0 & 0 & -g & -{c}\\over{m} & 0 & 0\\\\\n",
    "0 & 0 & 0 & 0 & -{c}\\over{m} & 0\\\\\n",
    "0 & 0 & 0 & 0 & 0 & 0\n",
    "\\end{bmatrix}\n",
    "$,\n",
    "and \n",
    "$\n",
    "B(\\xi) = \n",
    "\\begin{bmatrix}\n",
    "0 & 0\\\\\n",
    "0 & 0\\\\\n",
    "0 & 0\\\\\n",
    "{\\cos{\\theta}}\\over{m} & -{\\sin{\\theta}}\\over{m}\\\\\n",
    "{\\sin{\\theta}}\\over{m} & {\\cos{\\theta}}\\over{m}\\\\\n",
    "{r}\\over{J} & 0\n",
    "\\end{bmatrix}.\n",
    "$\n",
    "<br>\n",
    "We define `get_dynamics` function to get matricies $A$ and $B$ for a given state $\\xi$. "
   ]
  },
  {
   "cell_type": "code",
   "execution_count": 4,
   "id": "6a7c2ee7",
   "metadata": {},
   "outputs": [],
   "source": [
    "def get_dynamics(state):\n",
    "\n",
    "    roll = state[2]\n",
    "    \n",
    "    mat_A = np.zeros((6,6))\n",
    "    mat_A[:3,3:] = np.eye(3)\n",
    "    mat_A[3,2] = - GRAVITY\n",
    "    mat_A[3,3] = - AERODYNAMIC_COEFF/MASS\n",
    "    mat_A[4,4] = - AERODYNAMIC_COEFF/MASS\n",
    "\n",
    "    mat_B = np.zeros((6,2))\n",
    "    mat_B[3:5,0:2] = 1/MASS * np.array([[np.cos(roll), -np.sin(roll)], [np.sin(roll), np.cos(roll)]])\n",
    "    mat_B[5,0] = RADIUS/INERTIA\n",
    "    \n",
    "    return mat_A, mat_B"
   ]
  },
  {
   "cell_type": "markdown",
   "id": "1e3c9bf7",
   "metadata": {},
   "source": [
    "We also define `run_mpc` function to compute controls with the finite-horizon steps. In the process of MPC, we use a linearised dynamics at a given reference state $\\xi_{ref}$."
   ]
  },
  {
   "cell_type": "code",
   "execution_count": 21,
   "id": "60d0705d",
   "metadata": {},
   "outputs": [],
   "source": [
    "def run_mpc(cur_state, ref_state, horizon, dt=TIME_STEP):\n",
    "\n",
    "    assert cur_state.shape == ref_state.shape\n",
    "    mat_A, mat_B = get_dynamics(ref_state)\n",
    "    control_dim = mat_B.shape[1]\n",
    "    state_dim = cur_state.shape[0]\n",
    "    \n",
    "    U = cp.Variable((horizon, control_dim))\n",
    "    X = cp.Variable((horizon+1, state_dim))\n",
    "    \n",
    "    const = []\n",
    "    const.append(U <= CONTOL_MAX)\n",
    "    const.append(U >= CONTOL_MIN)\n",
    "\n",
    "    const.append(X[0,:]+ref_state == cur_state)\n",
    "\n",
    "    for i in range(horizon):\n",
    "        const.append(X[i+1,:] == X[i,:] + dt * (mat_A @ (X[i,:]+ref_state) + mat_B @ U[i,:]) )\n",
    "\n",
    "    cost = cp.sum((X[:,:])**2) + cp.sum((U[:,:])**2)\n",
    "        \n",
    "    prob = cp.Problem(cp.Minimize(cost), const)\n",
    "    prob.solve()\n",
    "\n",
    "    controls = U.value\n",
    "    states = X.value + ref_state\n",
    "    \n",
    "    return controls[0]"
   ]
  },
  {
   "cell_type": "markdown",
   "id": "00a02e41",
   "metadata": {},
   "source": [
    "Finally, we define `mpc_experiment` function for simulate the dynamics and record MPC trajectories. Here, when the mode is defined as `mode==\"linearized\"`, we use a linearized dynamics as given in the problem. Otherwise, we use the actual dynamic model given at the current $\\xi$. The homework problem does not seem to ask this case `mode!=\"linearized\"`, but I added this case for to further show the performance of MPC."
   ]
  },
  {
   "cell_type": "code",
   "execution_count": 24,
   "id": "d52ea755",
   "metadata": {},
   "outputs": [],
   "source": [
    "def mpc_experiment(init_state, ref_state, horizon=20, mode=\"linearized\"):\n",
    "\n",
    "    results = {'state':[], 'control':[], 'time':[]}\n",
    "\n",
    "    cur_state = np.copy(init_state)\n",
    "    results['state'] = np.copy(cur_state)\n",
    "\n",
    "    for idx in range(STEP_MAX):\n",
    "        if mode == \"linearized\":\n",
    "            mat_A, mat_B = get_dynamics(ref_state)\n",
    "        else:\n",
    "            mat_A, mat_B = get_dynamics(cur_state)\n",
    "        control = run_mpc(cur_state, ref_state, horizon)\n",
    "        cur_state += TIME_STEP * (mat_A @ cur_state + mat_B @ control)\n",
    "\n",
    "        results['state'].append(np.copy(cur_state))\n",
    "        results['control'].append(np.copy(control))\n",
    "        results['time'].append(TIME_STEP * idx)\n",
    "\n",
    "    results['state'] = np.array(results['state'])\n",
    "    results['control'] = np.array(results['control'])\n",
    "    results['time'] = np.array(results['time'])\n",
    "        \n",
    "    return results"
   ]
  },
  {
   "cell_type": "markdown",
   "id": "2cc020d6",
   "metadata": {},
   "source": [
    "The simulation results of the linearized dynamics are given as below."
   ]
  },
  {
   "cell_type": "code",
   "execution_count": 25,
   "id": "bc9f77e9",
   "metadata": {},
   "outputs": [
    {
     "ename": "TypeError",
     "evalue": "list indices must be integers or slices, not tuple",
     "output_type": "error",
     "traceback": [
      "\u001b[0;31m---------------------------------------------------------------------------\u001b[0m",
      "\u001b[0;31mTypeError\u001b[0m                                 Traceback (most recent call last)",
      "Cell \u001b[0;32mIn [25], line 5\u001b[0m\n\u001b[1;32m      2\u001b[0m result_linear[\u001b[38;5;241m20\u001b[39m] \u001b[38;5;241m=\u001b[39m mpc_experiment(INIT_STATE, REF_STATE, horizon\u001b[38;5;241m=\u001b[39m\u001b[38;5;241m20\u001b[39m, mode\u001b[38;5;241m=\u001b[39m\u001b[38;5;124m\"\u001b[39m\u001b[38;5;124mlinearized\u001b[39m\u001b[38;5;124m\"\u001b[39m)\n\u001b[1;32m      3\u001b[0m result_linear[\u001b[38;5;241m150\u001b[39m] \u001b[38;5;241m=\u001b[39m mpc_experiment(INIT_STATE, REF_STATE, horizon\u001b[38;5;241m=\u001b[39m\u001b[38;5;241m150\u001b[39m, mode\u001b[38;5;241m=\u001b[39m\u001b[38;5;124m\"\u001b[39m\u001b[38;5;124mlinearized\u001b[39m\u001b[38;5;124m\"\u001b[39m)\n\u001b[0;32m----> 5\u001b[0m plot_results(result_linear)\n",
      "Cell \u001b[0;32mIn [3], line 5\u001b[0m, in \u001b[0;36mplot_results\u001b[0;34m(results)\u001b[0m\n\u001b[1;32m      2\u001b[0m fig, axs \u001b[38;5;241m=\u001b[39m plt\u001b[38;5;241m.\u001b[39msubplots(\u001b[38;5;241m5\u001b[39m)\n\u001b[1;32m      4\u001b[0m \u001b[38;5;28;01mfor\u001b[39;00m key \u001b[38;5;129;01min\u001b[39;00m [\u001b[38;5;241m20\u001b[39m, \u001b[38;5;241m150\u001b[39m]:\n\u001b[0;32m----> 5\u001b[0m     axs[\u001b[38;5;241m0\u001b[39m]\u001b[38;5;241m.\u001b[39mplot(results[key][\u001b[38;5;124m'\u001b[39m\u001b[38;5;124mtime\u001b[39m\u001b[38;5;124m'\u001b[39m], \u001b[43mresults\u001b[49m\u001b[43m[\u001b[49m\u001b[43mkey\u001b[49m\u001b[43m]\u001b[49m\u001b[43m[\u001b[49m\u001b[38;5;124;43m'\u001b[39;49m\u001b[38;5;124;43mstate\u001b[39;49m\u001b[38;5;124;43m'\u001b[39;49m\u001b[43m]\u001b[49m\u001b[43m[\u001b[49m\u001b[43m:\u001b[49m\u001b[43m,\u001b[49m\u001b[38;5;241;43m0\u001b[39;49m\u001b[43m]\u001b[49m, label\u001b[38;5;241m=\u001b[39m\u001b[38;5;124m\"\u001b[39m\u001b[38;5;132;01m{}\u001b[39;00m\u001b[38;5;124m steps\u001b[39m\u001b[38;5;124m\"\u001b[39m\u001b[38;5;241m.\u001b[39mformat(key))\n\u001b[1;32m      6\u001b[0m     axs[\u001b[38;5;241m1\u001b[39m]\u001b[38;5;241m.\u001b[39mplot(results[key][\u001b[38;5;124m'\u001b[39m\u001b[38;5;124mtime\u001b[39m\u001b[38;5;124m'\u001b[39m], results[key][\u001b[38;5;124m'\u001b[39m\u001b[38;5;124mstate\u001b[39m\u001b[38;5;124m'\u001b[39m][:,\u001b[38;5;241m1\u001b[39m], label\u001b[38;5;241m=\u001b[39m\u001b[38;5;124m\"\u001b[39m\u001b[38;5;132;01m{}\u001b[39;00m\u001b[38;5;124m steps\u001b[39m\u001b[38;5;124m\"\u001b[39m\u001b[38;5;241m.\u001b[39mformat(key))\n\u001b[1;32m      7\u001b[0m     axs[\u001b[38;5;241m2\u001b[39m]\u001b[38;5;241m.\u001b[39mplot(results[key][\u001b[38;5;124m'\u001b[39m\u001b[38;5;124mtime\u001b[39m\u001b[38;5;124m'\u001b[39m], results[key][\u001b[38;5;124m'\u001b[39m\u001b[38;5;124mstate\u001b[39m\u001b[38;5;124m'\u001b[39m][:,\u001b[38;5;241m2\u001b[39m], label\u001b[38;5;241m=\u001b[39m\u001b[38;5;124m\"\u001b[39m\u001b[38;5;132;01m{}\u001b[39;00m\u001b[38;5;124m steps\u001b[39m\u001b[38;5;124m\"\u001b[39m\u001b[38;5;241m.\u001b[39mformat(key))\n",
      "\u001b[0;31mTypeError\u001b[0m: list indices must be integers or slices, not tuple"
     ]
    },
    {
     "data": {
      "image/png": "[encoded data removed]",
      "text/plain": [
       "<Figure size 640x480 with 5 Axes>"
      ]
     },
     "metadata": {},
     "output_type": "display_data"
    }
   ],
   "source": [
    "result_linear = {}\n",
    "result_linear[20] = mpc_experiment(INIT_STATE, REF_STATE, horizon=20, mode=\"linearized\")\n",
    "result_linear[150] = mpc_experiment(INIT_STATE, REF_STATE, horizon=150, mode=\"linearized\")"
   ]
  },
  {
   "cell_type": "code",
   "execution_count": null,
   "id": "09c3d0b9",
   "metadata": {},
   "outputs": [],
   "source": [
    "plot_results(result_linear)"
   ]
  },
  {
   "cell_type": "markdown",
   "id": "5967fd54",
   "metadata": {},
   "source": [
    "The simulation results of the actual dynamics are given as below."
   ]
  },
  {
   "cell_type": "code",
   "execution_count": null,
   "id": "ac4ea33c",
   "metadata": {},
   "outputs": [],
   "source": [
    "result_actual = {}\n",
    "result_actual[20] = mpc_experiment(INIT_STATE, REF_STATE, horizon=20, mode=\"actual\")\n",
    "result_actual[150] = mpc_experiment(INIT_STATE, REF_STATE, horizon=150, mode=\"actual\")"
   ]
  },
  {
   "cell_type": "code",
   "execution_count": null,
   "id": "df0bce60",
   "metadata": {},
   "outputs": [],
   "source": [
    "plot_results(result_actual)"
   ]
  }
 ],
 "metadata": {
  "kernelspec": {
   "display_name": "Python 3 (ipykernel)",
   "language": "python",
   "name": "python3"
  },
  "language_info": {
   "codemirror_mode": {
    "name": "ipython",
    "version": 3
   },
   "file_extension": ".py",
   "mimetype": "text/x-python",
   "name": "python",
   "nbconvert_exporter": "python",
   "pygments_lexer": "ipython3",
   "version": "3.8.5"
  }
 },
 "nbformat": 4,
 "nbformat_minor": 5
}
