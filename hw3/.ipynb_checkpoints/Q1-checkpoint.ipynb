{
 "cells": [
  {
   "cell_type": "markdown",
   "id": "985a15f4",
   "metadata": {},
   "source": [
    "# ECE381V HW3- Mingyo Seo (EID: ms84662)"
   ]
  },
  {
   "cell_type": "markdown",
   "id": "01c2edeb",
   "metadata": {},
   "source": [
    "We consider the $20\\times20$ grid world. For simulating and computing the policy, we use the following `Episode` class. "
   ]
  },
  {
   "cell_type": "code",
   "execution_count": 1,
   "id": "a0a4e88b",
   "metadata": {},
   "outputs": [],
   "source": [
    "import os\n",
    "import numpy as np\n",
    "import matplotlib.pyplot as plt\n",
    "import matplotlib.ticker as ticker\n",
    "import matplotlib.patches as patches\n",
    "import seaborn as sns\n",
    "\n",
    "np.set_printoptions(precision=2)\n",
    "\n",
    "MAX_EPISODE_STEPS = 100\n",
    "FULL_GRID_X = 20\n",
    "FULL_GRID_Y = 20\n",
    "ACTION_MAP = {  0 : np.array(( 0, 1)),\n",
    "                1 : np.array(( 0,-1)), \n",
    "                2 : np.array((-1, 0)), \n",
    "                3 : np.array(( 1, 0))}\n",
    "GAMMA = 0.90\n",
    "NUM_SAMPLING = 200\n",
    "SEED = 5\n"
   ]
  },
  {
   "cell_type": "code",
   "execution_count": 2,
   "id": "6a7c2ee7",
   "metadata": {},
   "outputs": [],
   "source": [
    "# DEFINE THE GRIDWORLD\n",
    "class Episode():\n",
    "    \n",
    "    def __init__(self, start=[0,0], goal=[19, 9], prob_fail=0.4, max_steps=MAX_EPISODE_STEPS) -> None:\n",
    "        self._grid_shape = np.array([FULL_GRID_X, FULL_GRID_Y])\n",
    "        self._state_history = []\n",
    "        self._action_history = []\n",
    "        \n",
    "        self._action_map = ACTION_MAP\n",
    "        self._num_action = len(self._action_map.keys())\n",
    "        \n",
    "        self._transition_dist = [prob_fail/self._num_action]*self._num_action + [1-prob_fail]\n",
    "\n",
    "        self._start = np.copy(start)\n",
    "        self._goal = np.copy(goal)\n",
    "        \n",
    "        self._max_steps = max_steps\n",
    "        \n",
    "        self.reset()\n",
    "                \n",
    "        \n",
    "    def reset(self, state=None):\n",
    "        \n",
    "        if state is not None:\n",
    "            self._state = np.copy(state)\n",
    "        else:\n",
    "            self._state = np.copy(self._start)\n",
    "        \n",
    "        self._state_history = []\n",
    "        self._action_history = []\n",
    "        self._state_history.append(np.copy(self._state))\n",
    "        self._steps = 0\n",
    "        \n",
    "        return self._get_state()\n",
    "        \n",
    "\n",
    "    def seed(self, seed = 0):\n",
    "        np.random.seed(seed)\n",
    "\n",
    "\n",
    "    def step(self, action):\n",
    "        transition_samples = list(self._action_map.keys()) + [action]\n",
    "        transition = np.random.choice(transition_samples, p=self._transition_dist)\n",
    "        self._state += self._action_map[transition]\n",
    "        self._state = np.clip(self._state, 0, self._grid_shape - 1)\n",
    "        self._state_history.append(np.copy(self._state))\n",
    "        self._action_history.append(np.copy(action))\n",
    "        \n",
    "        self._steps += 1\n",
    "        \n",
    "        return self._get_state(), self._get_reward(), self._get_done(), self._get_info()\n",
    "\n",
    "    \n",
    "    def distribution(self, state, action):\n",
    "\n",
    "        transition_samples = list(self._action_map.keys()) + [action]\n",
    "        dist = []      \n",
    "                \n",
    "        for transition, probability in zip(transition_samples, self._transition_dist):\n",
    "\n",
    "            future_state = state + self._action_map[transition]\n",
    "            future_state = np.clip(future_state, 0, self._grid_shape - 1)\n",
    "            future_reward = 1.0 * np.prod(future_state == self._goal)\n",
    "            dist.append([probability, future_reward, np.copy(future_state)])\n",
    "                \n",
    "        return dist\n",
    "    \n",
    "    @property\n",
    "    def start(self):\n",
    "        return np.copy(self._start)\n",
    "\n",
    "    @property\n",
    "    def goal(self):\n",
    "        return np.copy(self._goal)\n",
    "    \n",
    "    def _get_state(self):\n",
    "        return np.copy(self._state)\n",
    "    \n",
    "    def _get_reward(self):\n",
    "        return 1.0 * np.prod(self._state == self._goal)\n",
    "\n",
    "    def _get_done(self):\n",
    "        return self._steps >= self._max_steps   \n",
    "    \n",
    "    def _get_info(self):\n",
    "        info = {'states': self._state_history, 'actions': self._action_history}\n",
    "        \n",
    "        return info\n",
    "    "
   ]
  },
  {
   "cell_type": "markdown",
   "id": "1e3c9bf7",
   "metadata": {},
   "source": [
    "To use the Policy Iteration method for computing the optimal value function and the optimal policy, we define `policy_iteration` function. For the description of the function, please see the comments in the code."
   ]
  },
  {
   "cell_type": "code",
   "execution_count": 3,
   "id": "60d0705d",
   "metadata": {},
   "outputs": [],
   "source": [
    "# RUNNING POLICY ITERATION\n",
    "def policy_iteration(env, gamma=GAMMA, num_sampling=NUM_SAMPLING):\n",
    "\n",
    "    value_table = np.zeros(env._grid_shape)\n",
    "    policy_table = np.zeros(env._grid_shape)\n",
    "\n",
    "    is_value_changed = True\n",
    "    iterations = 0\n",
    "    \n",
    "    # WE CONTINUE ITERATINON UNTIL THE POLICY DOES NOT CHANGE\n",
    "    while is_value_changed:\n",
    "        is_value_changed = False\n",
    "        iterations += 1\n",
    "\n",
    "        # POLICY EVALUATION:\n",
    "        # UPDATE THE VALUE AT THE CURRENT ITERATION FOR EACH STATE\n",
    "        for x0 in range(env._grid_shape[0]):\n",
    "            for y0 in range(env._grid_shape[1]):\n",
    "                new_value = 0\n",
    "                state = [x0, y0]\n",
    "                action = policy_table[x0, y0]\n",
    "\n",
    "                # METHODS FOR KNWON DISTRIBUTION                \n",
    "                dist = env.distribution(state, action)\n",
    "                for probability, future_reward, future_state in dist:\n",
    "                    new_value += probability * (future_reward + gamma * value_table[future_state[0], future_state[1]])\n",
    "\n",
    "                # METHODS OF UNIFORMLY SAMPLING FOR UNKNWON DISTRIBUTION\n",
    "                # for _ in range(num_sampling):\n",
    "                #     env.reset(state)\n",
    "                #     future_state, future_reward, _, _ = env.step(action)\n",
    "                #     new_value += (future_reward + GAMMA * value_table[future_state[0], future_state[1]])/num_sampling                    \n",
    "\n",
    "                value_table[x0, y0] = new_value\n",
    "\n",
    "        # POLICY IMPROVEMENT:\n",
    "        # UPDATE THE POLICY WITH THE BEST ACTION FOR EACH STATE\n",
    "        for x0 in range(env._grid_shape[0]):\n",
    "            for y0 in range(env._grid_shape[1]):\n",
    "                new_value = 0\n",
    "                state = [x0, y0]\n",
    "                action = policy_table[x0, y0]\n",
    "                q_best = value_table[x0, y0]\n",
    "\n",
    "                for action in env._action_map.keys():\n",
    "                    q_sa = 0\n",
    "                    state = [x0, y0]\n",
    "\n",
    "                    # METHODS FOR KNWON DISTRIBUTION                \n",
    "                    dist = env.distribution(state, action)\n",
    "                    for probability, future_reward, future_state in dist:\n",
    "                        q_sa += probability * (future_reward + GAMMA * value_table[future_state[0], future_state[1]])\n",
    "\n",
    "                    # METHODS OF UNIFORMLY SAMPLING FOR UNKNWON DISTRIBUTION\n",
    "                    # for _ in range(num_sampling):\n",
    "                    #     env.reset(state)\n",
    "                    #     future_state, future_reward, _, _ = env.step(action)\n",
    "                    #     q_sa += (future_reward + GAMMA * value_table[future_state[0], future_state[1]])/num_sampling                    \n",
    "\n",
    "                    # CHECK THE TRANSITON STATE WITH THE BEST VALUE AT THIS STATE\n",
    "                    # AND UPDATE THE POLICY WITH THE CORRESPONDING ACTION\n",
    "                    if q_sa > q_best:\n",
    "                        policy_table[x0, y0] = action\n",
    "                        q_best = q_sa\n",
    "                        is_value_changed = True\n",
    "\n",
    "    print(\"Policy Iteration: {} iterations\".format(iterations))\n",
    "                        \n",
    "    return {'value': np.copy(value_table), 'policy': np.copy(policy_table)}\n"
   ]
  },
  {
   "cell_type": "markdown",
   "id": "00a02e41",
   "metadata": {},
   "source": [
    "To use the Value Iteration method for computing the optimal value function and the optimal policy, we define `value_iteration` function. For the description of the function, please see the comments in the code."
   ]
  },
  {
   "cell_type": "code",
   "execution_count": 4,
   "id": "d52ea755",
   "metadata": {},
   "outputs": [],
   "source": [
    "# RUNNING VALUE ITERATION\n",
    "def value_iteration(env, gamma=GAMMA, num_sampling=NUM_SAMPLING):\n",
    "\n",
    "    value_table = np.zeros(env._grid_shape)\n",
    "    policy_table = np.zeros(env._grid_shape)\n",
    "\n",
    "    is_converged = False\n",
    "    theta = 0.001\n",
    "    iterations = 0\n",
    "    \n",
    "    # WE CONTINUE ITERATINON UNTIL THE VALUE TABLE IS CONVERGED\n",
    "    while not is_converged:\n",
    "        delta = 0\n",
    "        iterations += 1\n",
    "\n",
    "        # UPDATE EACH STATE\n",
    "        for x0 in range(env._grid_shape[0]):\n",
    "            for y0 in range(env._grid_shape[1]):\n",
    "                state = [x0, y0]\n",
    "\n",
    "                # HERE, WE FIND THE BEST ACTION VALUE FOR THIS STATE BY CHECKING ONE STEP LOOKAHEAD\n",
    "                best_action_value = -1.0e+6\n",
    "\n",
    "                for action in env._action_map.keys():\n",
    "                    action_value = 0\n",
    "                    \n",
    "                    # METHODS FOR KNWON DISTRIBUTION                \n",
    "                    dist = env.distribution(state, action)\n",
    "                    for probability, future_reward, future_state in dist:\n",
    "                        action_value += probability * (future_reward + GAMMA * value_table[future_state[0], future_state[1]])\n",
    "\n",
    "                    # METHODS OF UNIFORMLY SAMPLING FOR UNKNWON DISTRIBUTION\n",
    "                    # for _ in range(NUM_SAMPLING):\n",
    "                    #     env.reset(state)\n",
    "                    #     future_state, future_reward, _, _ = env.step(action)\n",
    "                    #     action_value += (future_reward + GAMMA * value_table[future_state[0], future_state[1]])/NUM_SAMPLING                    \n",
    "\n",
    "                    # REMEMBER THE BEST ACTION VALUE SO FAR\n",
    "                    if action_value > best_action_value:\n",
    "                        best_action_value = action_value\n",
    "\n",
    "                # COMPUTE THE BEST ACTION VALUE AT THE CURRENT ITERATION WITH THE VALUE TABLE\n",
    "                delta = max(delta, np.abs(best_action_value - value_table[x0, y0]))\n",
    "\n",
    "                # UPDATE THE VALUE TABLE WITH THE BEST ACTION VALUE\n",
    "                value_table[x0, y0] = best_action_value        \n",
    "\n",
    "        # IF THE VALUE TABLE IS CONVERGED, WE STOP THE LOOP\n",
    "        if delta < theta:\n",
    "            is_converged = True\n",
    "\n",
    "    # WE GET THE POLICY FROM THE COMPUTED POLICY        \n",
    "    for x0 in range(env._grid_shape[0]):\n",
    "        for y0 in range(env._grid_shape[1]):\n",
    "            state = [x0, y0]\n",
    "            \n",
    "            # HERE, WE FIND THE BEST ACTION FOR THIS STATE BY CHECKING ONE STEP LOOKAHEAD\n",
    "            best_action_value = -1.0e+6\n",
    "\n",
    "            for action in env._action_map.keys():\n",
    "                action_value = 0\n",
    "                \n",
    "                # METHODS FOR KNWON DISTRIBUTION                \n",
    "                dist = env.distribution(state, action)\n",
    "                for probability, future_reward, future_state in dist:\n",
    "                    action_value += probability * (future_reward + GAMMA * value_table[future_state[0], future_state[1]])\n",
    "\n",
    "                # METHODS OF UNIFORMLY SAMPLING FOR UNKNWON DISTRIBUTION\n",
    "                # for _ in range(NUM_SAMPLING):\n",
    "                #     env.reset(state)\n",
    "                #     future_state, future_reward, _, _ = env.step(action)\n",
    "                #     action_value += (future_reward + GAMMA * value_table[future_state[0], future_state[1]])/NUM_SAMPLING                    \n",
    "\n",
    "                # REMEMBER THE BEST ACTION SO FAR                \n",
    "                if action_value > best_action_value:\n",
    "                    best_action_value = action_value\n",
    "                    best_action = action\n",
    "                    \n",
    "            # POLICY ALWAYS TAKES THE BEST ACTION                \n",
    "            policy_table[x0, y0] = best_action\n",
    "\n",
    "    print(\"Value Iteration: {} iterations\".format(iterations))\n",
    "        \n",
    "    return {'value': np.copy(value_table), 'policy': np.copy(policy_table)}\n"
   ]
  },
  {
   "cell_type": "markdown",
   "id": "3ceb386e",
   "metadata": {},
   "source": [
    "To evaluate and visualize value functions and policy computed by each algorithm, we use the below `evaluate_policy` function."
   ]
  },
  {
   "cell_type": "code",
   "execution_count": 5,
   "id": "69a1c992",
   "metadata": {},
   "outputs": [],
   "source": [
    "# EVALUATING POLICY\n",
    "def evaluate_policy(env, results):\n",
    "\n",
    "    policy_table = results['policy']\n",
    "    value_table = results['value']\n",
    "\n",
    "    # RESET THE EIPSIODE WITH THE SAME ENVIRONMENTS\n",
    "    env.seed(5)\n",
    "    state = env.reset()\n",
    "    rew_sum = 0\n",
    "    done = False\n",
    "\n",
    "    # PROCESS THE EPISODE UNTIL THE END WHEN IT REACHES THE MAXIMUM LENGTH OF THE EPISODE\n",
    "    while not done:\n",
    "        action = policy_table[state[0], state[1]]\n",
    "        state, reward, done, info = env.step(action)\n",
    "        rew_sum += reward\n",
    "\n",
    "    # PLOTTING THE RESULTS\n",
    "    trajectory = info['states']\n",
    "    trajectory = np.array(trajectory)\n",
    "\n",
    "    traj_x = trajectory[:,0]\n",
    "    traj_y = trajectory[:,1]\n",
    "\n",
    "    start = patches.Circle(env.start+0.5*np.ones(2), radius=0.3, color='green')\n",
    "    goal = patches.Circle(env.goal+0.5*np.ones(2), radius=0.3, color='blue')\n",
    "        \n",
    "    ax1 = sns.heatmap(value_table.T)\n",
    "    \n",
    "    ax1.add_patch(start)\n",
    "    ax1.add_patch(goal)\n",
    "    ax1.text(env.start[0], env.start[1]+1.5, 'Start', fontsize = 18, color='green')\n",
    "    ax1.text(env.goal[0]-2, env.goal[1]+1.5, 'Goal', fontsize = 18, color='blue')\n",
    "    ax1.plot(traj_x + 0.5, traj_y + 0.5, color='lime', lw=3)\n",
    "\n",
    "    ax1.invert_yaxis()\n",
    "    ax1.set_xticks(np.arange(0, 20, 5), rotation=0)\n",
    "    ax1.set_yticks(np.arange(0, 20, 5), rotation=0)\n",
    "    ax1.xaxis.set_major_formatter(ticker.FormatStrFormatter('%d'))\n",
    "    ax1.yaxis.set_major_formatter(ticker.FormatStrFormatter('%d'))\n",
    "    ax1.set_title('Value Visualization')    \n",
    "\n",
    "    plt.show()\n",
    "    \n",
    "    start = patches.Circle(env.start+0.5*np.ones(2), radius=0.3, color='green')\n",
    "    goal = patches.Circle(env.goal+0.5*np.ones(2), radius=0.3, color='blue')\n",
    "        \n",
    "    ax2 = sns.heatmap(policy_table.T, cmap=sns.color_palette(\"PiYG\", 4))\n",
    "\n",
    "    ax2.add_patch(start)\n",
    "    ax2.add_patch(goal)\n",
    "    ax2.text(env.start[0], env.start[1]+1.5, 'Start', fontsize = 18, color='green')\n",
    "    ax2.text(env.goal[0]-2, env.goal[1]+1.5, 'Goal', fontsize = 18, color='blue')\n",
    "    ax2.plot(traj_x + 0.5, traj_y + 0.5, color='lime', lw=3)\n",
    "\n",
    "    ax2.invert_yaxis()\n",
    "    ax2.set_xticks(np.arange(0, 20, 5), rotation=0)\n",
    "    ax2.set_yticks(np.arange(0, 20, 5), rotation=0)\n",
    "    ax2.xaxis.set_major_formatter(ticker.FormatStrFormatter('%d'))\n",
    "    ax2.yaxis.set_major_formatter(ticker.FormatStrFormatter('%d'))\n",
    "    \n",
    "    cbar = ax2.collections[0].colorbar\n",
    "    cbar.set_ticks([0, 1, 2, 3])\n",
    "    cbar.set_ticklabels(['up', 'down', 'left', 'right'])\n",
    "\n",
    "    ax2.set_title('Policy Visualization')\n",
    "\n",
    "    plt.show()\n",
    "    "
   ]
  },
  {
   "cell_type": "markdown",
   "id": "a3081f04",
   "metadata": {},
   "source": [
    "Here, we compute the policy and value functions from each algorithm."
   ]
  },
  {
   "cell_type": "code",
   "execution_count": 6,
   "id": "775ad617",
   "metadata": {},
   "outputs": [
    {
     "name": "stdout",
     "output_type": "stream",
     "text": [
      "Policy Iteration: 274 iterations\n",
      "Value Iteration: 53 iterations\n"
     ]
    }
   ],
   "source": [
    "env = Episode(start=[0,0], goal=[19, 9], prob_fail=0.4, max_steps=MAX_EPISODE_STEPS)\n",
    "policy_itr = policy_iteration(env)\n",
    "value_itr = value_iteration(env)"
   ]
  },
  {
   "cell_type": "markdown",
   "id": "9241f0f0",
   "metadata": {},
   "source": [
    "Here, we visualize the results of the Policy Iteration method."
   ]
  },
  {
   "cell_type": "code",
   "execution_count": 7,
   "id": "7ef3c4c5",
   "metadata": {},
   "outputs": [
    {
     "data": {
      "image/png": "[encoded data removed]",
      "text/plain": [
       "<Figure size 640x480 with 2 Axes>"
      ]
     },
     "metadata": {},
     "output_type": "display_data"
    },
    {
     "data": {
      "image/png": "[encoded data removed]",
      "text/plain": [
       "<Figure size 640x480 with 2 Axes>"
      ]
     },
     "metadata": {},
     "output_type": "display_data"
    }
   ],
   "source": [
    "evaluate_policy(env, policy_itr)"
   ]
  },
  {
   "cell_type": "markdown",
   "id": "9bd2180a",
   "metadata": {},
   "source": [
    "Here, we visualize the results of the Value Iteration method."
   ]
  },
  {
   "cell_type": "code",
   "execution_count": 8,
   "id": "e474c607",
   "metadata": {},
   "outputs": [
    {
     "data": {
      "image/png": "[encoded data removed]",
      "text/plain": [
       "<Figure size 640x480 with 2 Axes>"
      ]
     },
     "metadata": {},
     "output_type": "display_data"
    },
    {
     "data": {
      "image/png": "[encoded data removed]",
      "text/plain": [
       "<Figure size 640x480 with 2 Axes>"
      ]
     },
     "metadata": {},
     "output_type": "display_data"
    }
   ],
   "source": [
    "evaluate_policy(env, value_itr)"
   ]
  },
  {
   "cell_type": "markdown",
   "id": "b5ec5551",
   "metadata": {},
   "source": [
    "We can find that the resulting policies are similar to each other."
   ]
  }
 ],
 "metadata": {
  "kernelspec": {
   "display_name": "Python 3 (ipykernel)",
   "language": "python",
   "name": "python3"
  },
  "language_info": {
   "codemirror_mode": {
    "name": "ipython",
    "version": 3
   },
   "file_extension": ".py",
   "mimetype": "text/x-python",
   "name": "python",
   "nbconvert_exporter": "python",
   "pygments_lexer": "ipython3",
   "version": "3.8.5"
  }
 },
 "nbformat": 4,
 "nbformat_minor": 5
}
