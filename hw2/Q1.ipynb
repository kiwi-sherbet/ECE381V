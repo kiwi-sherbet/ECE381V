{
 "cells": [
  {
   "cell_type": "markdown",
   "id": "985a15f4",
   "metadata": {},
   "source": [
    "# ECE381V HW2- Mingyo Seo (EID: ms84662)"
   ]
  },
  {
   "cell_type": "markdown",
   "id": "01c2edeb",
   "metadata": {},
   "source": [
    "## Question 1"
   ]
  },
  {
   "cell_type": "markdown",
   "id": "ac3f5aff",
   "metadata": {},
   "source": [
    "We use the Lagrangian function,\n",
    "<br>\n",
    "$\\mathcal{L} (x, \\lambda, \\mu) = -\\sum_{i=1}^{n} \\log{\\left( \\alpha_i + x_i \\right)} + \\lambda (1^\\top {x} -1)  + \\mu^\\top (-{x}) $\n",
    "<br>\n",
    "where $\\lambda \\in \\mathbb{R}$ and $\\mu_i \\geq 0$.\n",
    "\n",
    "By applying $\\nabla_{xx} \\mathcal{L} (z, \\lambda, \\mu) =  0 $ at the sufficient conditions of optimality for constrained convex optimization problems, we can get\n",
    "<br>\n",
    "$\\lambda^* = \\mu^* + {1\\over{x_i^* + \\alpha_i}}$.\n",
    "<br>\n",
    "\n",
    "By applying complementary slckness\n",
    "<br>\n",
    "$\n",
    "\\mu_i^* (-x_i^*) = 0 \\quad \\forall i\n",
    "$,\n",
    "<br>\n",
    "the optimal solution is given as,\n",
    "<br>\n",
    "$\n",
    "\\lambda^* = \n",
    "\\begin{cases}\n",
    "{1\\over{x_i^* + \\alpha_i}} & x_i^* \\neq 0\\\\\n",
    "\\mu_i^* + {1\\over{\\alpha_i}} & x_i^* = 0\n",
    "\\end{cases}$.\n",
    "<br>\n",
    "(More details of the process of computing the optimiality, refer the lecture note.)"
   ]
  },
  {
   "cell_type": "markdown",
   "id": "2763ef4d",
   "metadata": {},
   "source": [
    "In the context of the water-filling problem, $\\alpha$ is interpreted as the natural water level. $x^*$ is the amount of filling water at the optimal actions. $\\lambda^*$ is the degree of the enoughness of water.\n",
    "The optimal water-filling solution $x_i^*$ is the amount of difference between ${1\\over{\\lambda_i^*}}-\\alpha_i$, as presented in the below plot.\n",
    "The first case of $\\lambda^*$ at $x_i^* \\neq 0$ implies that \n",
    "the natural water level is low $\\alpha_i < {1\\over{\\lambda_i^*}}$ and water need to be filled $x_i^* > 0$. The second case of $\\lambda^*$ at $x_i^* = 0$ implies that \n",
    "the natural water level is high enough $\\alpha_i > {1\\over{\\lambda_i^*}}$ and there is no water filling $x_i^* =0$.\n"
   ]
  },
  {
   "cell_type": "markdown",
   "id": "2254a7f9",
   "metadata": {},
   "source": [
    "The optimal actions of the water-filling problem can be computed by the below CVXPY script."
   ]
  },
  {
   "cell_type": "code",
   "execution_count": 23,
   "id": "6a7c2ee7",
   "metadata": {},
   "outputs": [
    {
     "name": "stdout",
     "output_type": "stream",
     "text": [
      "Problem status: optimal\n",
      "Optimal objective = 0.8202 \n",
      "Optimal action:\n",
      "[2.880e-08 2.333e-01 1.148e-08 4.333e-01 3.333e-01]\n",
      "Lambda values:\n",
      "[0.833 0.882 0.769 0.882 0.882]\n"
     ]
    },
    {
     "data": {
      "image/png": "[encoded data removed]",
      "text/plain": [
       "<Figure size 640x480 with 1 Axes>"
      ]
     },
     "metadata": {},
     "output_type": "display_data"
    }
   ],
   "source": [
    "import numpy as np\n",
    "import cvxpy as cp\n",
    "\n",
    "import matplotlib\n",
    "import matplotlib.pylab as plt\n",
    "\n",
    "np.set_printoptions(precision=3)\n",
    "matplotlib.rcParams.update({'font.size': 14})\n",
    "\n",
    "# Solve the water filling problem of n buckets, each different α, and sum c.\n",
    "def water_filling(n, a, c):\n",
    "\n",
    "    # Declare variables and parameters\n",
    "    x = cp.Variable(shape=n)\n",
    "    alpha = cp.Parameter(n, nonneg=True)\n",
    "    alpha.value = a\n",
    "\n",
    "    # Choose objective function. Interpret as maximising the total communication rate of all the channels\n",
    "    obj = cp.Maximize(cp.sum(cp.log(alpha + x)))\n",
    "\n",
    "    # Declare constraints\n",
    "    constraints = [x >= 0, cp.sum(x) - c == 0]\n",
    "\n",
    "    # Solve\n",
    "    prob = cp.Problem(obj, constraints)\n",
    "    prob.solve()\n",
    "    if(prob.status=='optimal'):\n",
    "        return prob.status, prob.value, x.value\n",
    "    else:\n",
    "        return prob.status, np.nan, np.nan\n",
    "    \n",
    "# Run scripts for Q1\n",
    "buckets = 5\n",
    "c = 1\n",
    "alpha = np.array([1.2, 0.9, 1.3, 0.7, 0.8])\n",
    "\n",
    "stat, value, x = water_filling(buckets, alpha, c)\n",
    "l = 1/(alpha + x)\n",
    "print('Problem status: {}'.format(stat))\n",
    "print('Optimal objective = {:.4g} '.format(value))\n",
    "print('Optimal action:\\n{}'.format(x))\n",
    "print('Lambda values:\\n{}'.format(l))\n",
    "\n",
    "X = x.copy()\n",
    "L = l.copy()\n",
    "\n",
    "# to include the last data point as a step, we need to repeat it\n",
    "A = np.concatenate((alpha,[alpha[-1]]))\n",
    "X = np.concatenate((X,[X[-1]]))\n",
    "L = np.concatenate((L,[L[-1]]))\n",
    "\n",
    "axis = np.arange(0.5,buckets+1.5,1)\n",
    "index = axis+0.5\n",
    "plt.xticks(index)\n",
    "plt.xlim(0.5,buckets+0.5)\n",
    "plt.ylim(0,1.5)\n",
    "plt.step(axis,A,where='post',label =r'$\\alpha$',lw=2)\n",
    "plt.step(axis,X,where='post',label =r'$x^*$',lw=2)\n",
    "plt.step(axis,1/L,where='post',label=r'$1/\\lambda^*$',lw=2)\n",
    "plt.legend(loc='lower right')\n",
    "plt.xlabel('Bucket Number')\n",
    "plt.ylabel('Power Level')\n",
    "plt.title('Water Filling Solution')\n",
    "plt.show()"
   ]
  }
 ],
 "metadata": {
  "kernelspec": {
   "display_name": "Python 3 (ipykernel)",
   "language": "python",
   "name": "python3"
  },
  "language_info": {
   "codemirror_mode": {
    "name": "ipython",
    "version": 3
   },
   "file_extension": ".py",
   "mimetype": "text/x-python",
   "name": "python",
   "nbconvert_exporter": "python",
   "pygments_lexer": "ipython3",
   "version": "3.8.5"
  }
 },
 "nbformat": 4,
 "nbformat_minor": 5
}
