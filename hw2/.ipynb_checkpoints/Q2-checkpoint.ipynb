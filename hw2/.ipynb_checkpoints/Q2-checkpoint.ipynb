{
 "cells": [
  {
   "cell_type": "markdown",
   "id": "28a27f58",
   "metadata": {},
   "source": [
    "## Question 2"
   ]
  },
  {
   "cell_type": "markdown",
   "id": "28dddb0f",
   "metadata": {},
   "source": [
    "Define a new variable $z$ as\n",
    "<br>\n",
    "$\n",
    "z = \n",
    "\\begin{bmatrix}\n",
    "x_0, \n",
    "u_0, \n",
    "x_1, \n",
    "u_1,\n",
    "\\cdots\n",
    "x_{N-1},\n",
    "u_{N-1},\n",
    "x_N,\n",
    "\\end{bmatrix}^\\top\n",
    "$\n",
    "<br>\n",
    "Then, we can rewrite the LQR problem as a quadratic formulation, as\n",
    "<br>\n",
    "Minimize\n",
    "$\n",
    "J_0 (x_0) = {1\\over2} z^\\top W z \n",
    "$\n",
    "<br>\n",
    "subject to \n",
    "$Cz + d = 0$\n",
    "<br>\n",
    "where\n",
    "<br>\n",
    "$\n",
    "W = \n",
    "\\begin{bmatrix}\n",
    "Q_0      & S_0 &          &     &        &          &     &\\\\\n",
    "S_0^\\top & R_0 &          &     &        &          &      &\\\\\n",
    "         &     & Q_1      & S_1 &        &          &      &\\\\\n",
    "         &     & S_1^\\top & R_1 &        &          &      &\\\\\n",
    "         &     &          &     & \\ddots &          &      &\\\\\n",
    "         &     &          &     &        &Q_{N-1}   &S_{N-1}& \\\\\n",
    "         &     &          &     &        &S_{N-1}^\\top&R_{N-1}& \\\\\n",
    "         &     &          &     &        &          &     & Q_N\n",
    "\\end{bmatrix}\n",
    "$\n",
    "<br>\n",
    "$\n",
    "C = \n",
    "\\begin{bmatrix}\n",
    "-I  &      &     &     &        &          &         &\\\\\n",
    "A_0 & B_0  & -I  &     &        &          &         &\\\\\n",
    "    &      & A_1 & B_1 & -I     &          &         &\\\\\n",
    "    &      &     &     & \\ddots &          &         &\\\\\n",
    "    &      &     &     &        &  A_{N-1} & B_{N-1} & -I\n",
    "\\end{bmatrix}\n",
    "$\n",
    "<br>\n",
    "$\n",
    "d = \n",
    "\\begin{bmatrix}\n",
    "x_0\\\\\n",
    "0\\\\\n",
    "\\vdots\\\\\n",
    "0\n",
    "\\end{bmatrix}\n",
    "$."
   ]
  },
  {
   "cell_type": "markdown",
   "id": "91df4e7f",
   "metadata": {},
   "source": [
    "Then, apply the SOC for constrained convex optimization problems.\n",
    "We can write the Lagrangian function, as\n",
    "$\n",
    "\\begin{align*}\n",
    "\\mathcal{L} (z, \\lambda) & = {1\\over2} z^\\top W z + \\lambda^\\top \\left( Cz + d\\right) \\\\\n",
    "&={1\\over2} \\left( z + W^{-1} C^\\top \\lambda \\right)^\\top W \\left( z + W^{-1} C^\\top \\lambda \\right) + \\lambda^\\top C W^{-1} C^\\top \\lambda.\n",
    "\\end{align*}\n",
    "$\n",
    "<br>\n",
    "From the fact $ Q_k^\\top = Q_k > 0$, $ R_k^\\top = R_k > 0$, $\\nabla_{zz} \\mathcal{L} (z, \\lambda) = \\nabla_{zz} J_0 (x_0)$, and the original formulation of $J_0 (x_0)$, we can find the fact that $\\nabla_{zz} \\mathcal{L} (z, \\lambda)$ is positive-definite.\n",
    "<br>Using $\\nabla \\mathcal{L} (z, \\lambda) = 0$ and the positive-definiteness of $W$, we can find a candidate optimal sequence of controls and states,\n",
    "<br>\n",
    "$z^* = -W^{-1} C^\\top \\lambda$.\n",
    "<br>\n",
    "By plugging the above equation into the constraints $Cx^* + d =0$, we can find $\\lambda^*$.\n",
    "Then, plugging the $\\lambda^*$ into the above equation again, we can find the optimal sequence of states and controls $z^*$.\n"
   ]
  }
 ],
 "metadata": {
  "kernelspec": {
   "display_name": "Python 3 (ipykernel)",
   "language": "python",
   "name": "python3"
  },
  "language_info": {
   "codemirror_mode": {
    "name": "ipython",
    "version": 3
   },
   "file_extension": ".py",
   "mimetype": "text/x-python",
   "name": "python",
   "nbconvert_exporter": "python",
   "pygments_lexer": "ipython3",
   "version": "3.8.5"
  }
 },
 "nbformat": 4,
 "nbformat_minor": 5
}
